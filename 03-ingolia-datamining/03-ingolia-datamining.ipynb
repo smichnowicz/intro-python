{
 "metadata": {
  "name": "",
  "signature": "sha256:e40c1fb7819611573ee4d06e189a30eec081d516e0300d73788a9388f781eeaa"
 },
 "nbformat": 3,
 "nbformat_minor": 0,
 "worksheets": [
  {
   "cells": [
    {
     "cell_type": "code",
     "collapsed": false,
     "input": [
      "#\n",
      "# Aim: to generate a consensus context for upstream ORF start codons\n",
      "# from the uORF data of Ingolia et al. 2009\n",
      "# \n",
      "#\n",
      "# I've exported supplementary table 3 from pdf format to a text file.\n",
      "# Let's print out lines 1-19 of the text file.\n",
      "\n",
      "\n",
      "with open('Ingolia_Table_S3.txt', 'rU') as file_in:   \n",
      "    i = 0\n",
      "    for line in file_in:\n",
      "        line = line.rstrip() # comment: this strips off the end-of-line character\n",
      "        if (i < 10):\n",
      "            i += 1           # comment: this increments 'i'\n",
      "            print line"
     ],
     "language": "python",
     "metadata": {},
     "outputs": [
      {
       "output_type": "stream",
       "stream": "stdout",
       "text": [
        "uORF  CDS  Gene  Initiator Site  Length  uORF end to CDS  # Rib  # mRNA  5\ufffd UTR # Rib  5\ufffd UTR mRNA  CDS mRNA  CDS Rib\n",
        "chrI@129038to128994  YAL014C  SYN8  aaatagATGcgt  45  -25  5  3  8  64.4  47.3  20.4\n",
        "chrI@67835to67824  YAL040C  CLN3  agtcaaATGgat  12  304  0  0  3  13.9  16.5  6.4\n",
        "chrI@62752to62763  YAL041W  CDC24  gtggctATGgta  12  77  0  0  0  19.5  46.5  19.2\n",
        "chrI@33225to33248  YAL061W  BDH2  cggcagATGcga  24  200  0  1  8  8.5  15.6  6.4\n",
        "chrI@33252to33275  YAL061W  BDH2  tagttaATGctt  24  173  0  0  8  8.5  15.6  6.4\n",
        "chrI@33266to33352  YAL061W  BDH2  gataaaATGtat  87  96  0  0  8  8.5  15.6  6.4\n",
        "chrI@33287to33352  YAL061W  BDH2  gtcgtaATGtgc  66  96  0  0  8  8.5  15.6  6.4\n",
        "chrI@158892to158978  YAR008W  SEN34  tcgtatATGgct  87  -12  9  14  10  57.5  98.9  9.9\n",
        "chrI@179999to179940  YAR023C  ttaaacATGcaa  60  123  5  6  7  31.9  29.9  1.5\n"
       ]
      }
     ],
     "prompt_number": 36
    },
    {
     "cell_type": "code",
     "collapsed": false,
     "input": [
      "# OK, we can see that there is a double-space separating\n",
      "# values in the text version of the pdf.\n",
      "# Let's split up the lines by double-spaces, using the 'split' method\n",
      "\n",
      "with open('Ingolia_Table_S3.txt', 'rU') as file_in:   \n",
      "    target_table = False\n",
      "    i = 0\n",
      "    for line in file_in:\n",
      "        line = line.rstrip()        \n",
      "        splut = line.split('  ')  # split the line up where-ever there is a double-space\n",
      "        if i < 15:\n",
      "            i += 1        \n",
      "            print '\\t'.join(splut) # join it all back up again using a tab ('\\t') as separator"
     ],
     "language": "python",
     "metadata": {},
     "outputs": [
      {
       "output_type": "stream",
       "stream": "stdout",
       "text": [
        "uORF\tCDS\tGene\tInitiator Site\tLength\tuORF end to CDS\t# Rib\t# mRNA\t5\ufffd UTR # Rib\t5\ufffd UTR mRNA\tCDS mRNA\tCDS Rib\n",
        "chrI@129038to128994\tYAL014C\tSYN8\taaatagATGcgt\t45\t-25\t5\t3\t8\t64.4\t47.3\t20.4\n",
        "chrI@67835to67824\tYAL040C\tCLN3\tagtcaaATGgat\t12\t304\t0\t0\t3\t13.9\t16.5\t6.4\n",
        "chrI@62752to62763\tYAL041W\tCDC24\tgtggctATGgta\t12\t77\t0\t0\t0\t19.5\t46.5\t19.2\n",
        "chrI@33225to33248\tYAL061W\tBDH2\tcggcagATGcga\t24\t200\t0\t1\t8\t8.5\t15.6\t6.4\n",
        "chrI@33252to33275\tYAL061W\tBDH2\ttagttaATGctt\t24\t173\t0\t0\t8\t8.5\t15.6\t6.4\n",
        "chrI@33266to33352\tYAL061W\tBDH2\tgataaaATGtat\t87\t96\t0\t0\t8\t8.5\t15.6\t6.4\n",
        "chrI@33287to33352\tYAL061W\tBDH2\tgtcgtaATGtgc\t66\t96\t0\t0\t8\t8.5\t15.6\t6.4\n",
        "chrI@158892to158978\tYAR008W\tSEN34\ttcgtatATGgct\t87\t-12\t9\t14\t10\t57.5\t98.9\t9.9\n",
        "chrI@179999to179940\tYAR023C\tttaaacATGcaa\t60\t123\t5\t6\t7\t31.9\t29.9\t1.5\n",
        "chrI@179972to179940\tYAR023C\tacactcATGtca\t33\t123\t1\t3\t7\t31.9\t29.9\t1.5\n",
        "chrI@179876to179817\tYAR023C\tcagaggATGagt\t60\t0\t0\t13\t7\t31.9\t29.9\t1.5\n",
        "chrII@207174to207191\tYBL009W\tALK2\tacatacATGcgc\t18\t5\t15\t2\t8\t11.1\t16.8\t21.5\n",
        "chrII@192273to192299\tYBL016W\tFUS3\tttttagATGatg\t27\t154\t0\t0\t1\t32.4\t74.9\t31.4\n",
        "chrII@192276to192299\tYBL016W\tFUS3\ttagatgATGcgg\t24\t154\t0\t0\t1\t32.4\t74.9\t31.4\n"
       ]
      }
     ],
     "prompt_number": 2
    },
    {
     "cell_type": "code",
     "collapsed": false,
     "input": [
      "#  Uh-oh, some rows have no gene name, and all the other \n",
      "#  fields are shifted left by 1. Importing into Excel\n",
      "#  results in same problem.\n",
      "#\n",
      "#  Let's print out 20 rows with the wrong number of fields\n",
      "#  and inspect them.\n",
      "#\n",
      "\n",
      "with open('Ingolia_Table_S3.txt', 'rU') as file_in:   \n",
      "    target_table = False\n",
      "    i = 0\n",
      "    for line in file_in:\n",
      "        line = line.rstrip()               \n",
      "        splut = line.split('  ')\n",
      "        if i < 15 and len(splut) != 12:  # only count lines with <> 12 cells\n",
      "            i += 1 \n",
      "            print '\\t'.join(splut)"
     ],
     "language": "python",
     "metadata": {},
     "outputs": [
      {
       "output_type": "stream",
       "stream": "stdout",
       "text": [
        "chrI@179999to179940\tYAR023C\tttaaacATGcaa\t60\t123\t5\t6\t7\t31.9\t29.9\t1.5\n",
        "chrI@179972to179940\tYAR023C\tacactcATGtca\t33\t123\t1\t3\t7\t31.9\t29.9\t1.5\n",
        "chrI@179876to179817\tYAR023C\tcagaggATGagt\t60\t0\t0\t13\t7\t31.9\t29.9\t1.5\n",
        "chrII@164851to164822\tYBL029C-A\tgaataaATGtca\t30\t48\t16\t10\t17\t55.8\t89.3\t35.9\n",
        "chrII@143191to143238\tYBL039W-B\tagagcgATGaag\t48\t157\t12\t7\t15\t71.7\t80.3\t18.1\n",
        "chrII@340779to340771\tYBR053C\tgtttatATGcat\t9\t23\t0\t0\t0\t27.8\t79.8\t42.0\n",
        "\n",
        "Table S3: All uORFs, continued\n",
        "chrII@614474to614430\tYBR196C-A\ttcggacATGcta\t45\t263\t0\t3\t0\t11.7\t14.5\t0.0\n",
        "chrII@614386to614312\tYBR196C-A\ttgaactATGttg\t75\t145\t0\t3\t0\t11.7\t14.5\t0.0\n",
        "chrII@614321to614292\tYBR196C-A\taaaaatATGtca\t30\t125\t0\t3\t0\t11.7\t14.5\t0.0\n",
        "chrII@614315to614292\tYBR196C-A\tatgtcaATGagg\t24\t125\t0\t3\t0\t11.7\t14.5\t0.0\n",
        "chrII@614298to614209\tYBR196C-A\taccgggATGgta\t90\t42\t0\t1\t0\t11.7\t14.5\t0.0\n",
        "chrII@699950to699921\tYBR239C\tacattgATGaat\t30\t-16\t0\t2\t1\t14.2\t8.1\t4.1\n",
        "chrII@704558to704596\tYBR242W\tcactgaATGgtt\t39\t68\t6\t12\t15\t72.6\t93.0\t50.5\n"
       ]
      }
     ],
     "prompt_number": 3
    },
    {
     "cell_type": "code",
     "collapsed": false,
     "input": [
      "#  OK, some rows are blank or only contain \"Table S3: All uORFs, continued\" or the column headings.\n",
      "#  We are not interested in these.\n",
      "#\n",
      "#  Lets just select rows with 11 elements and insert \"N/A\" into the missing\n",
      "#  gene name field (field number 3) to bring it up to 12\n",
      "#  Also, skip the column header rows (in which element 0 is \"uORF\")  \n",
      "\n",
      "with open('Ingolia_Table_S3.txt', 'rU') as file_in:   \n",
      "    target_table = False\n",
      "    i = 0\n",
      "    for line in file_in:\n",
      "        line = line.rstrip()                \n",
      "        splut = line.split('  ')\n",
      "        if splut[0] == 'uORF':\n",
      "            continue            # skip column headers\n",
      "        if len(splut) == 11:\n",
      "            splut.insert(2, 'N/A')   # insert 'N/A' into field number 3\n",
      "        i += 1\n",
      "        if i < 15 and len(splut) == 12:\n",
      "            print '\\t'.join(splut) "
     ],
     "language": "python",
     "metadata": {},
     "outputs": [
      {
       "output_type": "stream",
       "stream": "stdout",
       "text": [
        "chrI@129038to128994\tYAL014C\tSYN8\taaatagATGcgt\t45\t-25\t5\t3\t8\t64.4\t47.3\t20.4\n",
        "chrI@67835to67824\tYAL040C\tCLN3\tagtcaaATGgat\t12\t304\t0\t0\t3\t13.9\t16.5\t6.4\n",
        "chrI@62752to62763\tYAL041W\tCDC24\tgtggctATGgta\t12\t77\t0\t0\t0\t19.5\t46.5\t19.2\n",
        "chrI@33225to33248\tYAL061W\tBDH2\tcggcagATGcga\t24\t200\t0\t1\t8\t8.5\t15.6\t6.4\n",
        "chrI@33252to33275\tYAL061W\tBDH2\ttagttaATGctt\t24\t173\t0\t0\t8\t8.5\t15.6\t6.4\n",
        "chrI@33266to33352\tYAL061W\tBDH2\tgataaaATGtat\t87\t96\t0\t0\t8\t8.5\t15.6\t6.4\n",
        "chrI@33287to33352\tYAL061W\tBDH2\tgtcgtaATGtgc\t66\t96\t0\t0\t8\t8.5\t15.6\t6.4\n",
        "chrI@158892to158978\tYAR008W\tSEN34\ttcgtatATGgct\t87\t-12\t9\t14\t10\t57.5\t98.9\t9.9\n",
        "chrI@179999to179940\tYAR023C\tN/A\tttaaacATGcaa\t60\t123\t5\t6\t7\t31.9\t29.9\t1.5\n",
        "chrI@179972to179940\tYAR023C\tN/A\tacactcATGtca\t33\t123\t1\t3\t7\t31.9\t29.9\t1.5\n",
        "chrI@179876to179817\tYAR023C\tN/A\tcagaggATGagt\t60\t0\t0\t13\t7\t31.9\t29.9\t1.5\n",
        "chrII@207174to207191\tYBL009W\tALK2\tacatacATGcgc\t18\t5\t15\t2\t8\t11.1\t16.8\t21.5\n",
        "chrII@192273to192299\tYBL016W\tFUS3\tttttagATGatg\t27\t154\t0\t0\t1\t32.4\t74.9\t31.4\n",
        "chrII@192276to192299\tYBL016W\tFUS3\ttagatgATGcgg\t24\t154\t0\t0\t1\t32.4\t74.9\t31.4\n"
       ]
      }
     ],
     "prompt_number": 34
    },
    {
     "cell_type": "code",
     "collapsed": false,
     "input": [
      "#  All printed rows now have 12 elements.\n",
      "#  Now we could save this table as a nice tab-delimited text \n",
      "#  file table, to analyse in Excel or R.\n",
      "#  But instead, let's analyse the start codon context sequences here.\n",
      "#  Grab them into a list called \"context\"\n",
      "\n",
      "with open('Ingolia_Table_S3.txt', 'rU') as file_in:   \n",
      "    target_table = False\n",
      "    context = list()\n",
      "    for line in file_in:\n",
      "        line = line.rstrip()                \n",
      "        splut = line.split('  ')\n",
      "        if splut[0] == 'uORF':\n",
      "            continue            # skip column headers\n",
      "        if len(splut) == 11:      \n",
      "            splut.insert(2, 'N/A')   # insert 'N/A' into field number 3\n",
      "        if len(splut) == 12:\n",
      "            context.append(splut[3])"
     ],
     "language": "python",
     "metadata": {},
     "outputs": [],
     "prompt_number": 17
    },
    {
     "cell_type": "code",
     "collapsed": false,
     "input": [
      "print context[0:15]"
     ],
     "language": "python",
     "metadata": {},
     "outputs": [
      {
       "output_type": "stream",
       "stream": "stdout",
       "text": [
        "['aaatagATGcgt', 'agtcaaATGgat', 'gtggctATGgta', 'cggcagATGcga', 'tagttaATGctt', 'gataaaATGtat', 'gtcgtaATGtgc', 'tcgtatATGgct', 'ttaaacATGcaa', 'acactcATGtca', 'cagaggATGagt', 'acatacATGcgc', 'ttttagATGatg', 'tagatgATGcgg', 'tgataaATGgcc']\n"
       ]
      }
     ],
     "prompt_number": 19
    },
    {
     "cell_type": "code",
     "collapsed": false,
     "input": [
      "#  Count the frequency of each nucleotide at each position. Make four lists, \n",
      "#  A, C, G, and T, each 12 elements long, and put them in a dictionary\n",
      "freqs = dict()\n",
      "freqs[\"A\"] = [0] * 12\n",
      "freqs[\"C\"] = [0] * 12\n",
      "freqs[\"G\"] = [0] * 12\n",
      "freqs[\"T\"] = [0] * 12"
     ],
     "language": "python",
     "metadata": {},
     "outputs": [],
     "prompt_number": 64
    },
    {
     "cell_type": "code",
     "collapsed": false,
     "input": [
      "# Better check the structure of \"freqs\":\n",
      "\n",
      "for nucleotide in freqs:\n",
      "    print \"Nucleotide: \" + nucleotide\n",
      "    print freqs[nucleotide]"
     ],
     "language": "python",
     "metadata": {},
     "outputs": [
      {
       "output_type": "stream",
       "stream": "stdout",
       "text": [
        "Nucleotide: A\n",
        "[0, 0, 0, 0, 0, 0, 0, 0, 0, 0, 0, 0]\n",
        "Nucleotide: C\n",
        "[0, 0, 0, 0, 0, 0, 0, 0, 0, 0, 0, 0]\n",
        "Nucleotide: T\n",
        "[0, 0, 0, 0, 0, 0, 0, 0, 0, 0, 0, 0]\n",
        "Nucleotide: G\n",
        "[0, 0, 0, 0, 0, 0, 0, 0, 0, 0, 0, 0]\n"
       ]
      }
     ],
     "prompt_number": 65
    },
    {
     "cell_type": "code",
     "collapsed": false,
     "input": [
      "for seq in context:\n",
      "    seq = seq.upper() # convert to uppercase\n",
      "    for i in range(12):\n",
      "        \n",
      "        if seq[i] == \"A\":\n",
      "            freqs[\"A\"][i] += 1\n",
      "            \n",
      "        if seq[i] == \"C\":\n",
      "            freqs[\"C\"][i] += 1\n",
      "            \n",
      "        if seq[i] == \"G\":\n",
      "            freqs[\"G\"][i] += 1\n",
      "            \n",
      "        if seq[i] == \"T\":\n",
      "            freqs[\"T\"][i] += 1\n",
      "\n",
      "#\n",
      "# note: could replace the last 11 lines with:\n",
      "#\n",
      "#        freqs[ seq[i] ][i] += 1\n",
      "#\n",
      "# ...which is more elegant but less readable"
     ],
     "language": "python",
     "metadata": {},
     "outputs": [],
     "prompt_number": 66
    },
    {
     "cell_type": "code",
     "collapsed": false,
     "input": [
      "for nucleotide in freqs:  # this iterates through the keys of the freqs dictionary\n",
      "    print \"Nucleotide: \" + nucleotide\n",
      "    print freqs[nucleotide]"
     ],
     "language": "python",
     "metadata": {},
     "outputs": [
      {
       "output_type": "stream",
       "stream": "stdout",
       "text": [
        "Nucleotide: A\n",
        "[176, 192, 164, 124, 181, 150, 519, 0, 0, 153, 173, 180]\n",
        "Nucleotide: C\n",
        "[88, 80, 72, 81, 75, 110, 0, 0, 0, 130, 78, 89]\n",
        "Nucleotide: T\n",
        "[156, 160, 177, 244, 165, 160, 0, 519, 0, 128, 186, 167]\n",
        "Nucleotide: G\n",
        "[99, 87, 106, 70, 98, 99, 0, 0, 519, 108, 82, 83]\n"
       ]
      }
     ],
     "prompt_number": 67
    },
    {
     "cell_type": "code",
     "collapsed": false,
     "input": [
      "%matplotlib inline\n",
      "import matplotlib.pyplot as plt\n",
      "import numpy as np"
     ],
     "language": "python",
     "metadata": {},
     "outputs": [],
     "prompt_number": 1
    },
    {
     "cell_type": "code",
     "collapsed": false,
     "input": [
      "N = 12\n",
      "\n",
      "ind = np.arange(N)    # the x locations for the groups\n",
      "width = 0.35          # the width of the bars\n",
      "\n",
      "pA = plt.bar( ind, freqs[\"A\"], width, color='r' )\n",
      "pC = plt.bar( ind, freqs[\"C\"], width, color='y', bottom= freqs[\"A\"] )\n",
      "pG = plt.bar( ind, freqs[\"G\"], width, color='g', bottom= [ freqs[\"C\"][j] + freqs[\"A\"][j] for j in range(12)] )\n",
      "pT = plt.bar( ind, freqs[\"T\"], width, color='b', bottom= [ freqs[\"G\"][j] + freqs[\"C\"][j] + freqs[\"A\"][j] for j in range(12)] )\n",
      "\n",
      "\n",
      "plt.ylabel('Frequency')\n",
      "plt.title('Frequency of nucleotides around uORF start codons')\n",
      "plt.xticks( ind+width/2.0, (range(12)) )\n",
      "plt.yticks( np.arange(0, len(context) ,50) )\n",
      "\n",
      "plt.show()\n"
     ],
     "language": "python",
     "metadata": {},
     "outputs": []
    },
    {
     "cell_type": "code",
     "collapsed": false,
     "input": [
      "# Your supervisor tells you to go back and do it only for uORFs with real experimental evidence.\n",
      "# i.e. ribosomal footprints found in the uORF.\n",
      "# This is in column number 7. No problem, we just add a filter to the original script:\n",
      "with open('Ingolia_Table_S3.txt', 'rU') as file_in:   \n",
      "    target_table = False\n",
      "    context = list()\n",
      "    for line in file_in:\n",
      "        line = line.rstrip()                \n",
      "        splut = line.split('  ')\n",
      "        if splut[0] == 'uORF':\n",
      "            continue            \n",
      "        if len(splut) == 11:      \n",
      "            splut.insert(2, 'N/A')   \n",
      "        if len(splut) == 12 and int(splut[6]) > 0:  # add condition for at least 1 ribosomal footprint in uORF\n",
      "            context.append(splut[3])\n",
      "            \n",
      "#\n",
      "# Now do steps again\n",
      "#"
     ],
     "language": "python",
     "metadata": {},
     "outputs": [],
     "prompt_number": 62
    }
   ],
   "metadata": {}
  }
 ]
}