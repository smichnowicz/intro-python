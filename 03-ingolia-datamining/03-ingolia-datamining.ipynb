{
 "metadata": {
  "name": "",
  "signature": "sha256:5770a4d12ab0bf5aec2060c2cb5457976eefea282e4dc3bcde723f148e932bb8"
 },
 "nbformat": 3,
 "nbformat_minor": 0,
 "worksheets": [
  {
   "cells": [
    {
     "cell_type": "markdown",
     "metadata": {},
     "source": [
      "##  Datamining\n",
      "### Aim: to generate a consensus context for upstream ORF start codons from the uORF data of Ingolia et al. 2009.\n",
      "\n"
     ]
    },
    {
     "cell_type": "markdown",
     "metadata": {},
     "source": [
      "Here is what the table looked like as a pdf:\n",
      "\n",
      "<img src=\"TableS3_pdf.png\">"
     ]
    },
    {
     "cell_type": "markdown",
     "metadata": {},
     "source": [
      "## ...and on for several pages.\n",
      "\n",
      "## After exporting to .txt in Adobe Acrobat:\n",
      "\n",
      "uORF  CDS  Gene  Initiator Site  Length  uORF end to CDS  # Rib  # mRNA  5\u2019 UTR # Rib  5\u2019 UTR mRNA  CDS mRNA  CDS Rib  \n",
      "chrI@129038to128994  YAL014C  SYN8  aaatagATGcgt  45  -25  5  3  8  64.4  47.3  20.4  \n",
      "chrI@67835to67824  YAL040C  CLN3  agtcaaATGgat  12  304  0  0  3  13.9  16.5  6.4  \n",
      "chrI@62752to62763  YAL041W  CDC24  gtggctATGgta  12  77  0  0  0  19.5  46.5  19.2  \n",
      "chrI@33225to33248  YAL061W  BDH2  cggcagATGcga  24  200  0  1  8  8.5  15.6  6.4  \n",
      "chrI@33252to33275  YAL061W  BDH2  tagttaATGctt  24  173  0  0  8  8.5  15.6  6.4  \n",
      "chrI@33266to33352  YAL061W  BDH2  gataaaATGtat  87  96  0  0  8  8.5  15.6  6.4  \n",
      "chrI@33287to33352  YAL061W  BDH2  gtcgtaATGtgc  66  96  0  0  8  8.5  15.6  6.4  \n",
      "chrI@158892to158978  YAR008W  SEN34  tcgtatATGgct  87  -12  9  14  10  57.5  98.9  9.9  \n",
      "chrI@179999to179940  YAR023C  ttaaacATGcaa  60  123  5  6  7  31.9  29.9  1.5  \n",
      "chrI@179972to179940  YAR023C  acactcATGtca  33  123  1  3  7  31.9  29.9  1.5  \n",
      "chrI@179876to179817  YAR023C  cagaggATGagt  60  0  0  13  7  31.9  29.9  1.5  \n",
      "chrII@207174to207191  YBL009W  ALK2  acatacATGcgc  18  5  15  2  8  11.1  16.8  21.5   \n",
      "chrII@454615to454607  YBR107C  IML3  accgatATGaaa  9  84  0  0  1  8.0  24.1  3.3  \n",
      "chrII@454589to454560  YBR107C  IML3  agtgggATGatc  30  37  1  2  1  8.0  24.1  3.3  \n",
      "\n",
      "Table S3: All uORFs, continued  \n",
      "uORF  CDS  Gene  Initiator Site  Length  uORF end to CDS  # Rib  # mRNA  5\u2019 UTR # Rib  5\u2019 UTR mRNA  CDS mRNA  CDS Rib  \n",
      "chrII@454572to454396  YBR107C  IML3  gactgcATGgtt  177  -127  1  4  1  8.0  24.1  3.3  \n",
      "chrII@454528to454499  YBR107C  IML3  ctttggATGgaa  30  -24  0  0  1  8.0  24.1  3.3  \n",
      "chrII@479279to479323  YBR119W  MUD1  aaaaaaATGgaa  45  8  1  5  1  17.9  40.3  17.6  \n",
      "chrII@494113to494072  YBR128C  ATG14  cctagtATGaca  42  -36  0  0  2  22.9  19.3  1.6  \n",
      "\n",
      "\n",
      "\n",
      "\n",
      "\n",
      "### ... and on for several pages.\n",
      "<br>\n",
      "______________\n",
      "## Aim: build a script to parse the table. Start simple, add more features as we go.\n",
      "\n",
      "### First, a simple script to load the text file and print out the first 10 lines."
     ]
    },
    {
     "cell_type": "code",
     "collapsed": false,
     "input": [
      "# Let's print out lines 1-19 of the text file.\n",
      "\n",
      "with open('Ingolia_Table_S3.txt', 'rU') as file_in:  # 'Ingolia_Table_S3.txt' is loaded into the file-handle 'file_in' as read-only\n",
      "    i = 0                                            # set a counter variable 'i' to zero\n",
      "    for line in file_in:                             # iterate through all lines, loading each into the variable 'line'\n",
      "        line = line.rstrip()                         #    strip off the end-of-line character\n",
      "        if (i < 10):                                 #    for the first 10 rows, do the following:\n",
      "            i += 1                                   #      increment 'i'\n",
      "            print line                               #      print out the row"
     ],
     "language": "python",
     "metadata": {},
     "outputs": [
      {
       "output_type": "stream",
       "stream": "stdout",
       "text": [
        "uORF  CDS  Gene  Initiator Site  Length  uORF end to CDS  # Rib  # mRNA  5\ufffd UTR # Rib  5\ufffd UTR mRNA  CDS mRNA  CDS Rib\n",
        "chrI@129038to128994  YAL014C  SYN8  aaatagATGcgt  45  -25  5  3  8  64.4  47.3  20.4\n",
        "chrI@67835to67824  YAL040C  CLN3  agtcaaATGgat  12  304  0  0  3  13.9  16.5  6.4\n",
        "chrI@62752to62763  YAL041W  CDC24  gtggctATGgta  12  77  0  0  0  19.5  46.5  19.2\n",
        "chrI@33225to33248  YAL061W  BDH2  cggcagATGcga  24  200  0  1  8  8.5  15.6  6.4\n",
        "chrI@33252to33275  YAL061W  BDH2  tagttaATGctt  24  173  0  0  8  8.5  15.6  6.4\n",
        "chrI@33266to33352  YAL061W  BDH2  gataaaATGtat  87  96  0  0  8  8.5  15.6  6.4\n",
        "chrI@33287to33352  YAL061W  BDH2  gtcgtaATGtgc  66  96  0  0  8  8.5  15.6  6.4\n",
        "chrI@158892to158978  YAR008W  SEN34  tcgtatATGgct  87  -12  9  14  10  57.5  98.9  9.9\n",
        "chrI@179999to179940  YAR023C  ttaaacATGcaa  60  123  5  6  7  31.9  29.9  1.5\n"
       ]
      }
     ],
     "prompt_number": 1
    },
    {
     "cell_type": "markdown",
     "metadata": {},
     "source": [
      ".\n",
      ".\n",
      ".\n",
      ".\n",
      "\n",
      "\n",
      "## OK, we can see that there are double-spaces separating values in the text version of the pdf. \n",
      "### Let's split up the lines by double-spaces, using the 'split' method"
     ]
    },
    {
     "cell_type": "code",
     "collapsed": false,
     "input": [
      "with open('Ingolia_Table_S3.txt', 'rU') as file_in:   \n",
      "    i = 0\n",
      "    for line in file_in:\n",
      "        line = line.rstrip()        \n",
      "        splut = line.split(\"  \")   # split the line using a double-space delimiter, and load the elements into list 'splut'\n",
      "        if i < 13:\n",
      "            i += 1        \n",
      "            print '\\t'.join(splut) # join it all back up again using a tab ('\\t') as separator"
     ],
     "language": "python",
     "metadata": {},
     "outputs": [
      {
       "output_type": "stream",
       "stream": "stdout",
       "text": [
        "uORF\tCDS\tGene\tInitiator Site\tLength\tuORF end to CDS\t# Rib\t# mRNA\t5\ufffd UTR # Rib\t5\ufffd UTR mRNA\tCDS mRNA\tCDS Rib\n",
        "chrI@129038to128994\tYAL014C\tSYN8\taaatagATGcgt\t45\t-25\t5\t3\t8\t64.4\t47.3\t20.4\n",
        "chrI@67835to67824\tYAL040C\tCLN3\tagtcaaATGgat\t12\t304\t0\t0\t3\t13.9\t16.5\t6.4\n",
        "chrI@62752to62763\tYAL041W\tCDC24\tgtggctATGgta\t12\t77\t0\t0\t0\t19.5\t46.5\t19.2\n",
        "chrI@33225to33248\tYAL061W\tBDH2\tcggcagATGcga\t24\t200\t0\t1\t8\t8.5\t15.6\t6.4\n",
        "chrI@33252to33275\tYAL061W\tBDH2\ttagttaATGctt\t24\t173\t0\t0\t8\t8.5\t15.6\t6.4\n",
        "chrI@33266to33352\tYAL061W\tBDH2\tgataaaATGtat\t87\t96\t0\t0\t8\t8.5\t15.6\t6.4\n",
        "chrI@33287to33352\tYAL061W\tBDH2\tgtcgtaATGtgc\t66\t96\t0\t0\t8\t8.5\t15.6\t6.4\n",
        "chrI@158892to158978\tYAR008W\tSEN34\ttcgtatATGgct\t87\t-12\t9\t14\t10\t57.5\t98.9\t9.9\n",
        "chrI@179999to179940\tYAR023C\tttaaacATGcaa\t60\t123\t5\t6\t7\t31.9\t29.9\t1.5\n",
        "chrI@179972to179940\tYAR023C\tacactcATGtca\t33\t123\t1\t3\t7\t31.9\t29.9\t1.5\n",
        "chrI@179876to179817\tYAR023C\tcagaggATGagt\t60\t0\t0\t13\t7\t31.9\t29.9\t1.5\n",
        "chrII@207174to207191\tYBL009W\tALK2\tacatacATGcgc\t18\t5\t15\t2\t8\t11.1\t16.8\t21.5\n"
       ]
      }
     ],
     "prompt_number": 5
    },
    {
     "cell_type": "markdown",
     "metadata": {},
     "source": [
      ".\n",
      ".\n",
      ".\n",
      ".\n",
      "\n",
      "\n",
      "##  Uh-oh, some rows have no gene name, and all the other fields are shifted left by 1. Importing into Excel results in same problem.\n",
      "###  Let's print out 15 rows with the wrong number of fields and inspect them."
     ]
    },
    {
     "cell_type": "code",
     "collapsed": false,
     "input": [
      "\n",
      "\n",
      "with open('Ingolia_Table_S3.txt', 'rU') as file_in:   \n",
      "    i = 0\n",
      "    for line in file_in:\n",
      "        line = line.rstrip()               \n",
      "        splut = line.split('  ')\n",
      "        if i < 15 and len(splut) != 12:   # only print the lines with <> 12 cells\n",
      "            i += 1 \n",
      "            print '\\t'.join(splut)"
     ],
     "language": "python",
     "metadata": {},
     "outputs": [
      {
       "output_type": "stream",
       "stream": "stdout",
       "text": [
        "chrI@179999to179940\tYAR023C\tttaaacATGcaa\t60\t123\t5\t6\t7\t31.9\t29.9\t1.5\n",
        "chrI@179972to179940\tYAR023C\tacactcATGtca\t33\t123\t1\t3\t7\t31.9\t29.9\t1.5\n",
        "chrI@179876to179817\tYAR023C\tcagaggATGagt\t60\t0\t0\t13\t7\t31.9\t29.9\t1.5\n",
        "chrII@164851to164822\tYBL029C-A\tgaataaATGtca\t30\t48\t16\t10\t17\t55.8\t89.3\t35.9\n",
        "chrII@143191to143238\tYBL039W-B\tagagcgATGaag\t48\t157\t12\t7\t15\t71.7\t80.3\t18.1\n",
        "chrII@340779to340771\tYBR053C\tgtttatATGcat\t9\t23\t0\t0\t0\t27.8\t79.8\t42.0\n",
        "\n",
        "Table S3: All uORFs, continued\n",
        "chrII@614474to614430\tYBR196C-A\ttcggacATGcta\t45\t263\t0\t3\t0\t11.7\t14.5\t0.0\n",
        "chrII@614386to614312\tYBR196C-A\ttgaactATGttg\t75\t145\t0\t3\t0\t11.7\t14.5\t0.0\n",
        "chrII@614321to614292\tYBR196C-A\taaaaatATGtca\t30\t125\t0\t3\t0\t11.7\t14.5\t0.0\n",
        "chrII@614315to614292\tYBR196C-A\tatgtcaATGagg\t24\t125\t0\t3\t0\t11.7\t14.5\t0.0\n",
        "chrII@614298to614209\tYBR196C-A\taccgggATGgta\t90\t42\t0\t1\t0\t11.7\t14.5\t0.0\n",
        "chrII@699950to699921\tYBR239C\tacattgATGaat\t30\t-16\t0\t2\t1\t14.2\t8.1\t4.1\n",
        "chrII@704558to704596\tYBR242W\tcactgaATGgtt\t39\t68\t6\t12\t15\t72.6\t93.0\t50.5\n"
       ]
      }
     ],
     "prompt_number": 5
    },
    {
     "cell_type": "markdown",
     "metadata": {},
     "source": [
      "\n",
      ".\n",
      ".\n",
      ".\n",
      ".\n",
      "\n",
      "##  Some rows are blank or only contain \"Table S3: All uORFs, continued\" or the column headings. We are not interested in these.\n",
      "###  Let's take rows with 11 elements and insert \"N/A\" into the missing gene name field (field number 3) to bring it up to 12. Then, skip the column header rows (in which element 0 is \"uORF\") and any other lines still without 12 elements. "
     ]
    },
    {
     "cell_type": "code",
     "collapsed": false,
     "input": [
      "with open('Ingolia_Table_S3.txt', 'rU') as file_in:   \n",
      "    i = 0\n",
      "    for line in file_in:\n",
      "        line = line.rstrip()                \n",
      "        splut = line.split('  ')\n",
      "        \n",
      "        if len(splut) == 11:         # if there are only 11 elements:\n",
      "            splut.insert(2, 'N/A')   # insert 'N/A' into field number 3\n",
      "\n",
      "        if i < 15 and len(splut) == 12 and splut[0] != 'uORF':   # QC: Print the first 15 rows that end up with 12 elements\n",
      "            i += 1                                               # AND don't start with 'uORF' (ie. a column heading)\n",
      "            print '\\t'.join(splut)   "
     ],
     "language": "python",
     "metadata": {},
     "outputs": [
      {
       "output_type": "stream",
       "stream": "stdout",
       "text": [
        "chrI@129038to128994\tYAL014C\tSYN8\taaatagATGcgt\t45\t-25\t5\t3\t8\t64.4\t47.3\t20.4\n",
        "chrI@67835to67824\tYAL040C\tCLN3\tagtcaaATGgat\t12\t304\t0\t0\t3\t13.9\t16.5\t6.4\n",
        "chrI@62752to62763\tYAL041W\tCDC24\tgtggctATGgta\t12\t77\t0\t0\t0\t19.5\t46.5\t19.2\n",
        "chrI@33225to33248\tYAL061W\tBDH2\tcggcagATGcga\t24\t200\t0\t1\t8\t8.5\t15.6\t6.4\n",
        "chrI@33252to33275\tYAL061W\tBDH2\ttagttaATGctt\t24\t173\t0\t0\t8\t8.5\t15.6\t6.4\n",
        "chrI@33266to33352\tYAL061W\tBDH2\tgataaaATGtat\t87\t96\t0\t0\t8\t8.5\t15.6\t6.4\n",
        "chrI@33287to33352\tYAL061W\tBDH2\tgtcgtaATGtgc\t66\t96\t0\t0\t8\t8.5\t15.6\t6.4\n",
        "chrI@158892to158978\tYAR008W\tSEN34\ttcgtatATGgct\t87\t-12\t9\t14\t10\t57.5\t98.9\t9.9\n",
        "chrI@179999to179940\tYAR023C\tN/A\tttaaacATGcaa\t60\t123\t5\t6\t7\t31.9\t29.9\t1.5\n",
        "chrI@179972to179940\tYAR023C\tN/A\tacactcATGtca\t33\t123\t1\t3\t7\t31.9\t29.9\t1.5\n",
        "chrI@179876to179817\tYAR023C\tN/A\tcagaggATGagt\t60\t0\t0\t13\t7\t31.9\t29.9\t1.5\n",
        "chrII@207174to207191\tYBL009W\tALK2\tacatacATGcgc\t18\t5\t15\t2\t8\t11.1\t16.8\t21.5\n",
        "chrII@192273to192299\tYBL016W\tFUS3\tttttagATGatg\t27\t154\t0\t0\t1\t32.4\t74.9\t31.4\n",
        "chrII@192276to192299\tYBL016W\tFUS3\ttagatgATGcgg\t24\t154\t0\t0\t1\t32.4\t74.9\t31.4\n",
        "chrII@186489to186457\tYBL018C\tPOP8\ttgataaATGgcc\t33\t-19\t1\t2\t1\t128.7\t207.0\t63.2\n"
       ]
      }
     ],
     "prompt_number": 41
    },
    {
     "cell_type": "markdown",
     "metadata": {},
     "source": [
      ".\n",
      ".\n",
      ".\n",
      ".\n",
      "##  That looks better! All printed rows now have 12 elements.\n",
      "###  Now add code to create an output file and add all these rows to it.\n"
     ]
    },
    {
     "cell_type": "code",
     "collapsed": false,
     "input": [
      "with open('Ingolia_Table_S3.txt', 'rU') as file_in:\n",
      "    with open ('Ingolia_Table_S3_tsv.txt', 'w') as file_out:   # open a second file for writing ('w')\n",
      "\n",
      "        for line in file_in:\n",
      "            line = line.rstrip()                \n",
      "            splut = line.split('  ')\n",
      "        \n",
      "            if len(splut) == 11:         \n",
      "                splut.insert(2, 'N/A')   \n",
      "\n",
      "            if len(splut) == 12 and splut[0] != 'uORF':   # Don't bother counting lines this time\n",
      "                print >> file_out, '\\t'.join(splut)       # Print to file_out (not to the screen)"
     ],
     "language": "python",
     "metadata": {},
     "outputs": [],
     "prompt_number": 42
    },
    {
     "cell_type": "markdown",
     "metadata": {},
     "source": [
      "\n",
      "\n",
      "##  This file can now be imported to Excel. But instead, let's analyse the start codon context sequences here.\n",
      "###  Grab all the 12 nt context sequences in column 4 into a list called \"context\""
     ]
    },
    {
     "cell_type": "code",
     "collapsed": false,
     "input": [
      "with open('Ingolia_Table_S3.txt', 'rU') as file_in:   \n",
      "    context = list()              # establish 'context' as a list variable\n",
      "    for line in file_in:\n",
      "        line = line.rstrip()                \n",
      "        splut = line.split('  ')\n",
      "        \n",
      "        if len(splut) == 11:         \n",
      "            splut.insert(2, 'N/A')   \n",
      "\n",
      "        if len(splut) == 12 and splut[0] != 'uORF':  \n",
      "            context.append(splut[3])           # Add the sequence as a new element to the list 'context'"
     ],
     "language": "python",
     "metadata": {},
     "outputs": [],
     "prompt_number": 18
    },
    {
     "cell_type": "code",
     "collapsed": false,
     "input": [
      "print context[0:15]"
     ],
     "language": "python",
     "metadata": {},
     "outputs": [
      {
       "output_type": "stream",
       "stream": "stdout",
       "text": [
        "['aaatagATGcgt', 'agtcaaATGgat', 'gtggctATGgta', 'cggcagATGcga', 'tagttaATGctt', 'gataaaATGtat', 'gtcgtaATGtgc', 'tcgtatATGgct', 'ttaaacATGcaa', 'acactcATGtca', 'cagaggATGagt', 'acatacATGcgc', 'ttttagATGatg', 'tagatgATGcgg', 'tgataaATGgcc']\n"
       ]
      }
     ],
     "prompt_number": 19
    },
    {
     "cell_type": "markdown",
     "metadata": {},
     "source": [
      "##  Start a new script to analyse the contents of 'context', and count the frequency of each nucleotide at each position. \n",
      "### Make four lists, A, C, G, and T, each 12 elements long, and put them in a dictionary called 'freqs'"
     ]
    },
    {
     "cell_type": "code",
     "collapsed": false,
     "input": [
      "freqs = dict()\n",
      "freqs[\"A\"] = [0] * 12\n",
      "freqs[\"C\"] = [0] * 12\n",
      "freqs[\"G\"] = [0] * 12\n",
      "freqs[\"T\"] = [0] * 12"
     ],
     "language": "python",
     "metadata": {},
     "outputs": [],
     "prompt_number": 25
    },
    {
     "cell_type": "markdown",
     "metadata": {},
     "source": [
      "\n",
      "## \"freqs\" is now a dictionary of lists!\n",
      "### Printing out the contents will help clarify its structure."
     ]
    },
    {
     "cell_type": "code",
     "collapsed": false,
     "input": [
      "for nucleotide in freqs:               # iterate through the keys of 'freqs', loading them one-by-one into \"nucleotide\"\n",
      "    print \"Key: \" + nucleotide         # print the key's value\n",
      "    print freqs[nucleotide]            # print the dictionary entry under that key"
     ],
     "language": "python",
     "metadata": {},
     "outputs": [
      {
       "output_type": "stream",
       "stream": "stdout",
       "text": [
        "Key: A\n",
        "[708, 738, 654, 538, 728, 626, 2096, 0, 0, 638, 754, 734]\n",
        "Key: C\n",
        "[370, 340, 316, 316, 338, 410, 0, 0, 0, 444, 320, 334]\n",
        "Key: T\n",
        "[636, 672, 668, 882, 638, 642, 0, 2096, 0, 592, 662, 652]\n",
        "Key: G\n",
        "[382, 346, 458, 360, 392, 418, 0, 0, 2096, 422, 360, 376]\n"
       ]
      }
     ],
     "prompt_number": 40
    },
    {
     "cell_type": "markdown",
     "metadata": {},
     "source": [
      "\n",
      "Notice that the \"keys\" from a dictionary are accessed in random order, unlike the elements in a list, which are always ordered."
     ]
    },
    {
     "cell_type": "code",
     "collapsed": false,
     "input": [
      "for seq in context:\n",
      "    seq = seq.upper()     # convert sequence to uppercase characters\n",
      "    for i in range(12):   # 'i' iterates from 0,1,2 ... 11 \n",
      "        \n",
      "        if seq[i] == \"A\":        # if sequence has an \"A\" at position 'i':\n",
      "            freqs[\"A\"][i] += 1   # increment the count score in the freqs[\"A\"] list at element number 'i'\n",
      "            \n",
      "        if seq[i] == \"C\":\n",
      "            freqs[\"C\"][i] += 1\n",
      "            \n",
      "        if seq[i] == \"G\":\n",
      "            freqs[\"G\"][i] += 1\n",
      "            \n",
      "        if seq[i] == \"T\":\n",
      "            freqs[\"T\"][i] += 1\n",
      "\n",
      "# Note: This is not DRY (Don't Repeat Yourself)\n",
      "# rather, it is WET (We Enjoy Typing!)\n",
      "# because we could replace the last 8 lines with just one line:\n",
      "#        freqs[seq[i]][i] += 1"
     ],
     "language": "python",
     "metadata": {},
     "outputs": [],
     "prompt_number": 39
    },
    {
     "cell_type": "markdown",
     "metadata": {},
     "source": [
      "\n",
      "### Check out the contents of \"freqs\" now:"
     ]
    },
    {
     "cell_type": "code",
     "collapsed": false,
     "input": [
      "for nucleotide in freqs:               # iterate through the keys of 'freqs', loading them one-by-one into \"nucleotide\"\n",
      "    print \"Key: \" + nucleotide         # print the key\n",
      "    print freqs[nucleotide]            # print the dictionary entry under that key"
     ],
     "language": "python",
     "metadata": {},
     "outputs": [
      {
       "output_type": "stream",
       "stream": "stdout",
       "text": [
        "Key: A\n",
        "[354, 369, 327, 269, 364, 313, 1048, 0, 0, 319, 377, 367]\n",
        "Key: C\n",
        "[185, 170, 158, 158, 169, 205, 0, 0, 0, 222, 160, 167]\n",
        "Key: T\n",
        "[318, 336, 334, 441, 319, 321, 0, 1048, 0, 296, 331, 326]\n",
        "Key: G\n",
        "[191, 173, 229, 180, 196, 209, 0, 0, 1048, 211, 180, 188]\n"
       ]
      }
     ],
     "prompt_number": 28
    },
    {
     "cell_type": "markdown",
     "metadata": {},
     "source": [
      ".\n",
      ".\n",
      ".\n",
      ".\n",
      "## This could be easily exported to a tab-delimited file for graphing in Excel / R / Prism.\n",
      "### Instead, we'll graph it here. Import the matplotlib and numpy libraries so we can plot the results"
     ]
    },
    {
     "cell_type": "code",
     "collapsed": false,
     "input": [
      "%matplotlib inline\n",
      "import matplotlib.pyplot as plt\n",
      "import numpy as np"
     ],
     "language": "python",
     "metadata": {},
     "outputs": [],
     "prompt_number": 3
    },
    {
     "cell_type": "markdown",
     "metadata": {},
     "source": [
      "<br>\n",
      "### Make a stacked bar chart of nucleotide frequencies per location. \n",
      "#### (The code is beyond the scope of this course... and is a little clunky anyway)"
     ]
    },
    {
     "cell_type": "code",
     "collapsed": false,
     "input": [
      "N = 12\n",
      "\n",
      "ind = np.arange(N)    # the x locations for the groups\n",
      "width = 0.35          # the width of the bars\n",
      "\n",
      "pA = plt.bar( ind, freqs[\"A\"], width, color='r' )  \n",
      "# stack \"A\" bars on the x-axis\n",
      "pC = plt.bar( ind, freqs[\"C\"], width, color='y', bottom= freqs[\"A\"] )  \n",
      "# stack \"C\" bars on top of \"A\" bars\n",
      "pG = plt.bar( ind, freqs[\"G\"], width, color='g', bottom= [ freqs[\"C\"][j] + freqs[\"A\"][j] for j in range(12)] ) \n",
      "# stack \"G\" bars on top of \"A\" + \"C\" bars\n",
      "pT = plt.bar( ind, freqs[\"T\"], width, color='b', bottom= [ freqs[\"G\"][j] + freqs[\"C\"][j] + freqs[\"A\"][j] for j in range(12)] )\n",
      "# stack \"T\" bars on top of \"A\" + \"C\" + \"G\" bars\n",
      "\n",
      "plt.ylabel('Frequency')\n",
      "plt.title('Frequency of nucleotides around uORF start codons')\n",
      "plt.xticks( ind+width/2.0, (range(12)) )\n",
      "plt.yticks( np.arange(0, len(context) ,50) )\n",
      "\n",
      "plt.show()\n"
     ],
     "language": "python",
     "metadata": {},
     "outputs": [
      {
       "metadata": {},
       "output_type": "display_data",
       "png": "[encoded data removed]",
       "text": [
        "<matplotlib.figure.Figure at 0x1075da690>"
       ]
      }
     ],
     "prompt_number": 30
    },
    {
     "cell_type": "markdown",
     "metadata": {},
     "source": [
      "#### Red: \"A\"  Yellow: \"C\"  Green: \"G\"  Blue: \"T\" \n",
      "\n"
     ]
    },
    {
     "cell_type": "markdown",
     "metadata": {},
     "source": [
      "\n",
      "<br>\n",
      "#### It looks like there might be an over-representation of T (actually, Uracil as it's RNA) 3 nt upstream of the start codons. We'd have to run some statistics on this in real life of course, but it's a nice exploratory plot.\n",
      "_________________________________________________________________________________\n"
     ]
    },
    {
     "cell_type": "markdown",
     "metadata": {},
     "source": [
      "<br><br><br>\n",
      "### Now your supervisor tells you to go back and do it only for uORFs with real experimental evidence, i.e. where ribosomal footprints were found in the uORF (this is given in column # 7 of the table). \n",
      "### If you'd done this process manually, it would be a major pain to go back to the start and filter the data in a different way.\n",
      "### But with a script, no problem. We just add a filter at the start, and run the whole thing again:"
     ]
    },
    {
     "cell_type": "code",
     "collapsed": false,
     "input": [
      "min_fp = 1  # <------ change this to adjust minimum ribosome footprints in included dataset"
     ],
     "language": "python",
     "metadata": {},
     "outputs": [],
     "prompt_number": 31
    },
    {
     "cell_type": "code",
     "collapsed": false,
     "input": [
      "with open('Ingolia_Table_S3.txt', 'rU') as file_in:   \n",
      "    target_table = False\n",
      "    context = list()\n",
      "    for line in file_in:\n",
      "        line = line.rstrip()                \n",
      "        splut = line.split('  ')\n",
      "        if splut[0] == 'uORF':\n",
      "            continue            \n",
      "        if len(splut) == 11:      \n",
      "            splut.insert(2, 'N/A')   \n",
      "        if len(splut) == 12 and int(splut[6]) >= min_fp:  # add condition for minimum number of ribosomal footprints in the uORF\n",
      "            context.append(splut[3])\n",
      "\n",
      "freqs = dict()\n",
      "freqs[\"A\"] = [0] * 12\n",
      "freqs[\"C\"] = [0] * 12\n",
      "freqs[\"G\"] = [0] * 12\n",
      "freqs[\"T\"] = [0] * 12\n",
      "\n",
      "for seq in context:\n",
      "    seq = seq.upper() # convert seq to uppercase\n",
      "    for i in range(12):\n",
      "        freqs[seq[i]][i] += 1  # this is the short version of the code\n",
      "        \n",
      "\n",
      "%matplotlib inline\n",
      "import matplotlib.pyplot as plt\n",
      "import numpy as np\n",
      "        \n",
      "N = 12\n",
      "ind = np.arange(N)    # the x locations for the groups\n",
      "width = 0.35          # the width of the bars\n",
      "\n",
      "pA = plt.bar( ind, freqs[\"A\"], width, color='r' )\n",
      "pC = plt.bar( ind, freqs[\"C\"], width, color='y', bottom= freqs[\"A\"] )\n",
      "pG = plt.bar( ind, freqs[\"G\"], width, color='g', bottom= [ freqs[\"C\"][j] + freqs[\"A\"][j] for j in range(12)] )\n",
      "pT = plt.bar( ind, freqs[\"T\"], width, color='b', bottom= [ freqs[\"G\"][j] + freqs[\"C\"][j] + freqs[\"A\"][j] for j in range(12)] )\n",
      "\n",
      "\n",
      "plt.ylabel('Frequency')\n",
      "plt.title('Frequency of nucleotides around uORF start codons')\n",
      "plt.xticks( ind+width/2.0, (range(12)) )\n",
      "plt.yticks( np.arange(0, len(context) , 25) )\n",
      "\n",
      "print \"Total uORFs counted in analysis: \" + str(len(context))\n",
      "print \"Minumum ribosome footprints in uORF: \" + str(min_fp)\n",
      "plt.show()"
     ],
     "language": "python",
     "metadata": {},
     "outputs": [
      {
       "output_type": "stream",
       "stream": "stdout",
       "text": [
        "Total uORFs counted in analysis: 519\n",
        "Minumum ribosome footprints in uORF: 1\n"
       ]
      },
      {
       "metadata": {},
       "output_type": "display_data",
       "png": "[encoded data removed]",
       "text": [
        "<matplotlib.figure.Figure at 0x1119c6c50>"
       ]
      }
     ],
     "prompt_number": 32
    },
    {
     "cell_type": "markdown",
     "metadata": {},
     "source": [
      "#### Red: \"A\"  Yellow: \"C\"  Green: \"G\"  Blue: \"T\" "
     ]
    },
    {
     "cell_type": "code",
     "collapsed": false,
     "input": [
      "min_fp = 1  # <------ change this to adjust minimum ribosome footprints in included dataset"
     ],
     "language": "python",
     "metadata": {},
     "outputs": [],
     "prompt_number": 27
    },
    {
     "cell_type": "markdown",
     "metadata": {},
     "source": [
      "#### It seems like the \"T\" bias at position -3 is even stronger for uORFs that are associated with ribosomes. However, we would need to do a few other things like adjusting for mRNA abundance before coming to any hard conclusions.\n",
      "\n",
      "<br>\n",
      "\n",
      "#The above template can be easily customized to parse most tabulated data you are likely to find in papers or on the internet into a form that is importable into Excel or R. \n",
      "## As Simon showed, data can also be analysed in Python with the appropriate libraries. "
     ]
    },
    {
     "cell_type": "code",
     "collapsed": false,
     "input": [],
     "language": "python",
     "metadata": {},
     "outputs": []
    }
   ],
   "metadata": {}
  }
 ]
}