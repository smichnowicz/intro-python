{
 "metadata": {
  "name": "",
  "signature": "sha256:8af6554d998d320d2e7a8cb1da3253b4ef1965c5aa45f522cb60d1468d67eb28"
 },
 "nbformat": 3,
 "nbformat_minor": 0,
 "worksheets": [
  {
   "cells": [
    {
     "cell_type": "heading",
     "level": 1,
     "metadata": {},
     "source": [
      "DATAPROCESSING AND PYTHON"
     ]
    },
    {
     "cell_type": "markdown",
     "metadata": {},
     "source": [
      "A common task you need to do as a scientist is to share and process data with your colleauges. This involves reading in the data (in some form), processing it some way, either by data manipulation or viewing it, and then writing it out again.\n",
      "\n",
      "This might sound straightforward, but its not. What format is the data in? There are dozens are data formats that you might get.  Some examples you might see are (and these are just a few):\n",
      "- XML  - a text based tag format (similar to html)\n",
      "- CSV  - comma separated values\n",
      "- JSON - Java Script Object Notation..\n",
      "- Excel -Microsoft Program\n",
      "- Custom Formats\n",
      "    * Different disciplines have different data formats for different purposes.\n",
      "    * Different manfuacturers have different formats to differentiate themselves from competitors\n",
      "    * You may be dealing with technology so new there are not standard formats\n",
      "    * If 'real' programmers don't like any standard, they code their own!\n",
      "\n",
      "That's just the start of the concerns. Some formats are sensitive to case; there are DOS vs UNIX line-feed issues; some have different time and date formats. Was the data correctly recorded in the first place? ;  etc, etc..\n",
      "\n",
      "It's enough to give you a big headache.\n",
      "\n",
      "<img src=\"picard.jpeg\">\n",
      "\n",
      "\n",
      "\n",
      "Luckily Python can help, instead of re-inventing the wheel, we can use a library!\n",
      "\n",
      "<img src=\"ghostbusters.jpg\" style=\"width: 400px;\">\n",
      "<center> *Real Scientists using a library*   </center>\n",
      "\n",
      "Python contains a  comprehensive set of libraries that contain a lot of code that reads, writes and processes data. Once you learn to use these libraries, you can focus on your science, and not on the nuts and bolts of data.  We will look at just one library today -**NumPy**.\n",
      "\n",
      "**NumPy** is the fundamental package for scientific computing with Python. It contains among other things:\n",
      "*a powerful N-dimensional array object\n",
      "*sophisticated (broadcasting) functions\n",
      "*tools for integrating C/C++ and Fortran code\n",
      "*useful linear algebra, Fourier transform, and random number capabilities\n",
      "\n",
      "Besides its obvious scientific uses, **NumPy** can also be used as an efficient multi-dimensional container of generic data. Arbitrary data-types can be defined. This allows **NumPy** to seamlessly and speedily integrate with a wide variety of databases.\n",
      "\n",
      "\n",
      "Objectives For Today's Talk\n",
      "\n",
      " * Explain what a library is, and what libraries are used for.\n",
      " * Load a Python library and use the things it contains.\n",
      " * Read tabular data from a file into a program.\n",
      " * Assign values to variables.\n",
      " * Select individual values and subsections from data.\n",
      " * Perform operations on arrays of data.\n",
      " * Display simple graphs."
     ]
    },
    {
     "cell_type": "heading",
     "level": 2,
     "metadata": {},
     "source": [
      "Sample Problem.\n"
     ]
    },
    {
     "cell_type": "markdown",
     "metadata": {},
     "source": [
      "We are studying inflammation in patients who have been given a new treatment for arthritis, and need to analyze the first dozen data sets. The data sets are stored in comma-separated values (CSV) format: each row holds information for a single patient, and the columns represent successive days. The first few rows of our first file look like this:"
     ]
    },
    {
     "cell_type": "code",
     "collapsed": false,
     "input": [
      "0,0,1,3,1,2,4,7,8,3,3,3,10,5,7,4,7,7,12,18,6,13,11,11,7,7,4,6,8,8,4,4,5,7,3,4,2,3,0,0\n",
      "0,1,2,1,2,1,3,2,2,6,10,11,5,9,4,4,7,16,8,6,18,4,12,5,12,7,11,5,11,3,3,5,4,4,5,5,1,1,0,1\n",
      "0,1,1,3,3,2,6,2,5,9,5,7,4,5,4,15,5,11,9,10,19,14,12,17,7,12,11,7,4,2,10,5,4,2,2,3,2,2,1,1\n",
      "0,0,2,0,4,2,2,1,6,7,10,7,9,13,8,8,15,10,10,7,17,4,4,7,6,15,6,4,9,11,3,5,6,3,3,4,2,3,2,1\n",
      "0,1,1,3,3,1,3,5,2,4,4,7,6,5,3,10,8,10,6,17,9,14,9,7,13,9,12,6,7,7,9,6,3,2,2,4,2,0,1,1"
     ],
     "language": "python",
     "metadata": {},
     "outputs": [
      {
       "metadata": {},
       "output_type": "pyout",
       "prompt_number": 1,
       "text": [
        "(0,\n",
        " 1,\n",
        " 1,\n",
        " 3,\n",
        " 3,\n",
        " 1,\n",
        " 3,\n",
        " 5,\n",
        " 2,\n",
        " 4,\n",
        " 4,\n",
        " 7,\n",
        " 6,\n",
        " 5,\n",
        " 3,\n",
        " 10,\n",
        " 8,\n",
        " 10,\n",
        " 6,\n",
        " 17,\n",
        " 9,\n",
        " 14,\n",
        " 9,\n",
        " 7,\n",
        " 13,\n",
        " 9,\n",
        " 12,\n",
        " 6,\n",
        " 7,\n",
        " 7,\n",
        " 9,\n",
        " 6,\n",
        " 3,\n",
        " 2,\n",
        " 2,\n",
        " 4,\n",
        " 2,\n",
        " 0,\n",
        " 1,\n",
        " 1)"
       ]
      }
     ],
     "prompt_number": 1
    },
    {
     "cell_type": "markdown",
     "metadata": {},
     "source": [
      "We want to:\n",
      "\n",
      "* load that data into memory,\n",
      "* calculate the average inflammation per day across all patients, and\n",
      "* plot the result.\n",
      "\n",
      "The first thing we do is load the **NumPy** library with the **import** command. We can then access  methods inside the library."
     ]
    },
    {
     "cell_type": "code",
     "collapsed": false,
     "input": [
      "# import the numpy library. See http://docs.scipy.org/doc/numpy/user/whatisnumpy.html\n",
      "# numpy provides a multidimensional array object,, and an assortment of routines for fast operations on arrays,\n",
      "# including mathematical, logical, shape manipulation, sorting, selecting, I/O, discrete Fourier transforms, \n",
      "#  basic linear algebra, basic statistical operations, random simulation and much more.\n",
      "import numpy\n",
      "\n",
      "#\n",
      "# we now use a predefined method inside the numpy library to load in a CSV file.\n",
      "# The Format of using a library is\n",
      "# libraryName.method()\n",
      "#\n",
      "# In this case, numpy.loadtxt returns a data structure which we assign to a variable called 'data'\n",
      "#\n",
      "\n",
      "data=numpy.loadtxt(fname='inflammation-01.csv', delimiter=',')\n",
      "print data\n"
     ],
     "language": "python",
     "metadata": {},
     "outputs": [
      {
       "output_type": "stream",
       "stream": "stdout",
       "text": [
        "[[ 0.  0.  1. ...,  3.  0.  0.]\n",
        " [ 0.  1.  2. ...,  1.  0.  1.]\n",
        " [ 0.  1.  1. ...,  2.  1.  1.]\n",
        " ..., \n",
        " [ 0.  1.  1. ...,  1.  1.  1.]\n",
        " [ 0.  0.  0. ...,  0.  2.  0.]\n",
        " [ 0.  0.  1. ...,  1.  1.  0.]]\n"
       ]
      }
     ],
     "prompt_number": 4
    },
    {
     "cell_type": "markdown",
     "metadata": {},
     "source": [
      "The expression numpy.loadtxt(...) is a function call that asks Python to run the function loadtxt that belongs to the numpy library. This dotted notation is used everywhere in Python to refer to the parts of things as thing.component.\n",
      "\n",
      "numpy.loadtxt has two parameters: the name of the file we want to read, and the delimiter that separates values on a line. These both need to be character strings (or strings for short), so we put them in quotes.\n",
      "Manipulating Data\n",
      "==================\n",
      "\n",
      "Now that our data is in memory, we can start doing things with it. First, let's ask what type of thing data refers to:\n",
      "\n",
      "\n"
     ]
    },
    {
     "cell_type": "code",
     "collapsed": false,
     "input": [
      "print type(data)"
     ],
     "language": "python",
     "metadata": {},
     "outputs": [
      {
       "output_type": "stream",
       "stream": "stdout",
       "text": [
        "<type 'numpy.ndarray'>\n"
       ]
      }
     ],
     "prompt_number": 5
    },
    {
     "cell_type": "markdown",
     "metadata": {},
     "source": [
      "\n",
      "The output tells us that data currently refers to an N-dimensional array created by the NumPy library. We can see what its shape is like this:"
     ]
    },
    {
     "cell_type": "code",
     "collapsed": false,
     "input": [
      "print data.shape"
     ],
     "language": "python",
     "metadata": {},
     "outputs": [
      {
       "output_type": "stream",
       "stream": "stdout",
       "text": [
        "(60, 40)\n"
       ]
      }
     ],
     "prompt_number": 6
    },
    {
     "cell_type": "markdown",
     "metadata": {},
     "source": [
      "This tells us that data has 60 rows and 40 columns. data.shape is a member of data, i.e., a value that is stored as part of a larger value. We use the same dotted notation for the members of values that we use for the functions in libraries because they have the same part-and-whole relationship.\n",
      "\n",
      "If we want to get a single value from the matrix, we must provide an index in square brackets, just as we do in math:"
     ]
    },
    {
     "cell_type": "code",
     "collapsed": false,
     "input": [
      "print 'first value in data:', data[0, 0]"
     ],
     "language": "python",
     "metadata": {},
     "outputs": [
      {
       "output_type": "stream",
       "stream": "stdout",
       "text": [
        "first value in data: 0.0\n"
       ]
      }
     ],
     "prompt_number": 7
    },
    {
     "cell_type": "code",
     "collapsed": false,
     "input": [
      "print 'middle value in data:', data[30, 20]"
     ],
     "language": "python",
     "metadata": {},
     "outputs": [
      {
       "output_type": "stream",
       "stream": "stdout",
       "text": [
        "middle value in data: 13.0\n"
       ]
      }
     ],
     "prompt_number": 8
    },
    {
     "cell_type": "markdown",
     "metadata": {},
     "source": [
      "The expression data[30, 20] may not surprise you, but data[0, 0] might. Programming languages like Fortran and MATLAB start counting at 1, because that's what human beings have done for thousands of years. Languages in the C family (including C++, Java, Perl, and Python) count from 0 because that's simpler for computers to do. As a result, if we have an M\u00d7N array in Python, its indices go from 0 to M-1 on the first axis and 0 to N-1 on the second. It takes a bit of getting used to, but one way to remember the rule is that the index is how many steps we have to take from the start to get the item we want"
     ]
    },
    {
     "cell_type": "markdown",
     "metadata": {},
     "source": [
      "An index like [30, 20] selects a single element of an array, but we can select whole sections as well. For example, we can select the first ten days (columns) of values for the first four (rows) patients like this:"
     ]
    },
    {
     "cell_type": "code",
     "collapsed": false,
     "input": [
      "print data[0:4, 0:10]"
     ],
     "language": "python",
     "metadata": {},
     "outputs": [
      {
       "output_type": "stream",
       "stream": "stdout",
       "text": [
        "[[ 0.  0.  1.  3.  1.  2.  4.  7.  8.  3.]\n",
        " [ 0.  1.  2.  1.  2.  1.  3.  2.  2.  6.]\n",
        " [ 0.  1.  1.  3.  3.  2.  6.  2.  5.  9.]\n",
        " [ 0.  0.  2.  0.  4.  2.  2.  1.  6.  7.]]\n"
       ]
      }
     ],
     "prompt_number": 9
    },
    {
     "cell_type": "markdown",
     "metadata": {},
     "source": [
      " Arrays also know how to do more complex operations on their values. If we want to find the average inflammation for all patients on all days, for example, we can just ask the array for its mean value"
     ]
    },
    {
     "cell_type": "code",
     "collapsed": false,
     "input": [
      "print data.mean()"
     ],
     "language": "python",
     "metadata": {},
     "outputs": [
      {
       "output_type": "stream",
       "stream": "stdout",
       "text": [
        "6.14875\n"
       ]
      }
     ],
     "prompt_number": 10
    },
    {
     "cell_type": "markdown",
     "metadata": {},
     "source": [
      "*mean* is a method of the array, i.e., a function that belongs to it in the same way that the member shape does. If variables are nouns, methods are verbs: they are what the thing in question knows how to do. This is why *data.shape* doesn't need to be called (it's just a thing) but *data.mean()* does (it's an action). It is also why we need empty parentheses for data.mean(): even when we're not passing in any parameters, parentheses are how we tell Python to go and do something for us.\n",
      "\n",
      "NumPy arrays have lots of useful methods:\n"
     ]
    },
    {
     "cell_type": "code",
     "collapsed": false,
     "input": [
      "print 'maximum inflammation:', data.max()\n",
      "print 'minimum inflammation:', data.min()\n",
      "print 'standard deviation:', data.std()"
     ],
     "language": "python",
     "metadata": {},
     "outputs": [
      {
       "output_type": "stream",
       "stream": "stdout",
       "text": [
        "maximum inflammation: 20.0\n",
        "minimum inflammation: 0.0\n",
        "standard deviation: 4.61383319712\n"
       ]
      }
     ],
     "prompt_number": 11
    },
    {
     "cell_type": "markdown",
     "metadata": {},
     "source": [
      "When analyzing data, though, we often want to look at partial statistics, such as the maximum value per patient or the average value per day. One way to do this is to select the data we want to create a new temporary array, then ask it to do the calculation:"
     ]
    },
    {
     "cell_type": "code",
     "collapsed": false,
     "input": [
      "patient_0 = data[0, :] # 0 on the first axis, everything on the second\n",
      "print 'maximum inflammation for patient 0:', patient_0.max()\n",
      "\n"
     ],
     "language": "python",
     "metadata": {},
     "outputs": [
      {
       "output_type": "stream",
       "stream": "stdout",
       "text": [
        "maximum inflammation for patient 0: 18.0\n"
       ]
      }
     ],
     "prompt_number": 12
    },
    {
     "cell_type": "markdown",
     "metadata": {},
     "source": [
      "Subsets of the data\n",
      "--------------------\n",
      "\n",
      "We can create subsets of the original data by a process known as *splicing*.   For example, we can select the first ten days (columns) of values for the first four (rows) patients like this:\n"
     ]
    },
    {
     "cell_type": "markdown",
     "metadata": {},
     "source": [
      "The slice 0:4 means, \"Start at index 0 and go up to, but not including, index 4.\" Again, the up-to-but-not-including takes a bit of getting used to, but the rule is that the difference between the upper and lower bounds is the number of values in the slice.\n",
      "\n",
      "We don't have to start slices at 0:"
     ]
    },
    {
     "cell_type": "code",
     "collapsed": false,
     "input": [
      "print data[5:10, 0:10]"
     ],
     "language": "python",
     "metadata": {},
     "outputs": [
      {
       "output_type": "stream",
       "stream": "stdout",
       "text": [
        "[[ 0.  0.  1.  2.  2.  4.  2.  1.  6.  4.]\n",
        " [ 0.  0.  2.  2.  4.  2.  2.  5.  5.  8.]\n",
        " [ 0.  0.  1.  2.  3.  1.  2.  3.  5.  3.]\n",
        " [ 0.  0.  0.  3.  1.  5.  6.  5.  5.  8.]\n",
        " [ 0.  1.  1.  2.  1.  3.  5.  3.  5.  8.]]\n"
       ]
      }
     ],
     "prompt_number": 13
    },
    {
     "cell_type": "markdown",
     "metadata": {},
     "source": [
      "We also don't have to include the upper and lower bound on the slice. If we don't include the lower bound, Python uses 0 by default; if we don't include the upper, the slice runs to the end of the axis, and if we don't include either (i.e., if we just use ':' on its own), the slice includes everything:"
     ]
    },
    {
     "cell_type": "code",
     "collapsed": false,
     "input": [
      "small = data[:3, 36:]\n",
      "print 'small is:'\n",
      "print small"
     ],
     "language": "python",
     "metadata": {},
     "outputs": [
      {
       "output_type": "stream",
       "stream": "stdout",
       "text": [
        "small is:\n",
        "[[ 2.  3.  0.  0.]\n",
        " [ 1.  1.  0.  1.]\n",
        " [ 2.  2.  1.  1.]]\n"
       ]
      }
     ],
     "prompt_number": 14
    },
    {
     "cell_type": "markdown",
     "metadata": {},
     "source": [
      "Arrays also know how to perform common mathematical operations on their values. The simplest operations with data are arithmetic: add, subtract, multiply, and divide. When you do such operations on arrays, the operation is done on each individual element of the array. Thus:"
     ]
    },
    {
     "cell_type": "code",
     "collapsed": false,
     "input": [
      "doubledata = data * 2.0"
     ],
     "language": "python",
     "metadata": {},
     "outputs": [],
     "prompt_number": 15
    },
    {
     "cell_type": "markdown",
     "metadata": {},
     "source": [
      "will create a new array doubledata whose elements have the value of two times the value of the corresponding elements in data."
     ]
    },
    {
     "cell_type": "code",
     "collapsed": false,
     "input": [
      "print 'original:'\n",
      "print data[:3, 36:]\n",
      "print 'doubledata:'\n",
      "print doubledata[:3, 36:]"
     ],
     "language": "python",
     "metadata": {},
     "outputs": [
      {
       "output_type": "stream",
       "stream": "stdout",
       "text": [
        "original:\n",
        "[[ 2.  3.  0.  0.]\n",
        " [ 1.  1.  0.  1.]\n",
        " [ 2.  2.  1.  1.]]\n",
        "doubledata:\n",
        "[[ 4.  6.  0.  0.]\n",
        " [ 2.  2.  0.  2.]\n",
        " [ 4.  4.  2.  2.]]\n"
       ]
      }
     ],
     "prompt_number": 16
    },
    {
     "cell_type": "markdown",
     "metadata": {},
     "source": [
      "If, instead of taking an array and doing arithmetic with a single value (as above) you did the arithmetic operation with another array of the same size and shape, the operation will be done on corresponding elements of the two arrays. Thus:"
     ]
    },
    {
     "cell_type": "code",
     "collapsed": false,
     "input": [
      "tripledata = doubledata + data"
     ],
     "language": "python",
     "metadata": {},
     "outputs": [],
     "prompt_number": 17
    },
    {
     "cell_type": "markdown",
     "metadata": {},
     "source": [
      "will give you an array where tripledata[0,0] will equal doubledata[0,0] plus data[0,0], and so on for all other elements of the arrays."
     ]
    },
    {
     "cell_type": "code",
     "collapsed": false,
     "input": [
      "print 'tripledata:'\n",
      "print tripledata[:3, 36:]"
     ],
     "language": "python",
     "metadata": {},
     "outputs": [
      {
       "output_type": "stream",
       "stream": "stdout",
       "text": [
        "tripledata:\n",
        "[[ 6.  9.  0.  0.]\n",
        " [ 3.  3.  0.  3.]\n",
        " [ 6.  6.  3.  3.]]\n"
       ]
      }
     ],
     "prompt_number": 18
    },
    {
     "cell_type": "markdown",
     "metadata": {},
     "source": [
      "More on methods\n",
      "----------------\n",
      "\n",
      "We have seen ealier that *mean* is a method of the array, i.e., a function that belongs to it in the same way that the member shape does. If variables are nouns, methods are verbs: they are what the thing in question knows how to do. This is why data.shape doesn't need to be called (it's just a thing) but data.mean() does (it's an action). It is also why we need empty parentheses for data.mean(): even when we're not passing in any parameters, parentheses are how we tell Python to go and do something for us.\n",
      "\n",
      "\n",
      "\n",
      "NumPy arrays have lots of useful methods: Here is a list I found in the documentation.\n",
      "\n",
      "|   method      |     Descrption        |\n",
      "| ------------- |-------------|\n",
      "| ndarray.argmax([axis, out]) |\tReturn indices of the maximum values along the given axis.|\n",
      "| ndarray.min([axis, out])  | \tReturn the minimum along a given axis.|\n",
      "| ndarray.argmin([axis, out])  | \tReturn indices of the minimum values along the given axis of a.\n",
      "| ndarray.ptp([axis, out]) |  \tPeak to peak (maximum - minimum) value along a given axis.\n",
      "| ndarray.clip(a_min, a_max[, out])  | \tReturn an array whose values are limited to [a_min, a_max].\n",
      "| ndarray.conj()  | \tComplex-conjugate all elements.\n",
      "| ndarray.round([decimals, out])  | \tReturn a with each element rounded to the given number of decimals.\n",
      "| ndarray.trace([offset, axis1, axis2, dtype, out]) \t | Return the sum along diagonals of the array.\n",
      "| ndarray.sum([axis, dtype, out]) \t | Return the sum of the array elements over the given axis.\n",
      "| ndarray.cumsum([axis, dtype, out]) \t | Return the cumulative sum of the elements along the given axis.\n",
      "| ndarray.mean([axis, dtype, out])  | \tReturns the average of the array elements along given axis.\n",
      "| ndarray.var([axis, dtype, out, ddof])  | \tReturns the variance of the array elements, along given axis.\n",
      "| ndarray.std([axis, dtype, out, ddof])  | \tReturns the standard deviation of the array elements along given axis.\n",
      "| ndarray.prod([axis, dtype, out])  | \tReturn the product of the array elements over the given axis\n",
      "| ndarray.cumprod([axis, dtype, out]) \t | Return the cumulative product of the elements along the given axis.\n",
      "| ndarray.all([axis, out])  | \tReturns True if all elements evaluate to True.\n",
      "| ndarray.any([axis, out])  | \tReturns True if any of the elements of a evaluate to True.\n",
      "\n",
      " The documentation in Python can advise you on all the information you will need. e.g. look at http://docs.scipy.org/doc/numpy/reference/arrays.ndarray.html"
     ]
    },
    {
     "cell_type": "code",
     "collapsed": false,
     "input": [
      "print 'maximum inflammation:', data.max()\n",
      "print 'minimum inflammation:', data.min()\n",
      "print 'standard deviation:', data.std()"
     ],
     "language": "python",
     "metadata": {},
     "outputs": [
      {
       "output_type": "stream",
       "stream": "stdout",
       "text": [
        "maximum inflammation: 20.0\n",
        "minimum inflammation: 0.0\n",
        "standard deviation: 4.61383319712\n"
       ]
      }
     ],
     "prompt_number": 19
    },
    {
     "cell_type": "markdown",
     "metadata": {},
     "source": [
      "What if we need the maximum inflammation for all patients, or the average for each day? As the diagram below shows, we want to perform the operation across an axis:\n",
      "\n",
      "<img src=\"python-operations-across-axes.svg\">\n",
      "\n",
      " To support this, most array methods allow us to specify the axis we want to work on. If we ask for the average across axis 0, we get:"
     ]
    },
    {
     "cell_type": "code",
     "collapsed": false,
     "input": [
      "print data.mean(axis=0)"
     ],
     "language": "python",
     "metadata": {},
     "outputs": [
      {
       "output_type": "stream",
       "stream": "stdout",
       "text": [
        "[  0.           0.45         1.11666667   1.75         2.43333333   3.15\n",
        "   3.8          3.88333333   5.23333333   5.51666667   5.95         5.9\n",
        "   8.35         7.73333333   8.36666667   9.5          9.58333333\n",
        "  10.63333333  11.56666667  12.35        13.25        11.96666667\n",
        "  11.03333333  10.16666667  10.           8.66666667   9.15         7.25\n",
        "   7.33333333   6.58333333   6.06666667   5.95         5.11666667   3.6\n",
        "   3.3          3.56666667   2.48333333   1.5          1.13333333\n",
        "   0.56666667]\n"
       ]
      }
     ],
     "prompt_number": 20
    },
    {
     "cell_type": "markdown",
     "metadata": {},
     "source": [
      "Plotting\n",
      "---------\n",
      "The mathematician Richard Hamming once said, \"The purpose of computing is insight, not numbers,\" and the best way to develop insight is often to visualize data. Visualization deserves an entire lecture (or course) of its own, but we can explore a few features of Python's matplotlib here. While there is no \"official\" plotting library, this package is the de facto standard. First, let's tell the IPython Notebook that we want our plots displayed inline, rather than in a separate viewing window:"
     ]
    },
    {
     "cell_type": "code",
     "collapsed": false,
     "input": [
      "%matplotlib inline"
     ],
     "language": "python",
     "metadata": {},
     "outputs": [],
     "prompt_number": 21
    },
    {
     "cell_type": "markdown",
     "metadata": {},
     "source": [
      "The % at the start of the line signals that this is a command for the notebook, rather than a statement in Python. Next, we will import the pyplot module from matplotlib and use two of its functions to create and display a heat map of our data:"
     ]
    },
    {
     "cell_type": "code",
     "collapsed": false,
     "input": [
      "%matplotlib inline\n",
      "from matplotlib import pyplot\n",
      "pyplot.imshow(data)\n",
      "pyplot.show()"
     ],
     "language": "python",
     "metadata": {},
     "outputs": [
      {
       "metadata": {},
       "output_type": "display_data",
       "png": "[encoded data removed]",
       "text": [
        "<matplotlib.figure.Figure at 0x104e4f290>"
       ]
      }
     ],
     "prompt_number": 22
    },
    {
     "cell_type": "markdown",
     "metadata": {},
     "source": [
      "Blue regions in this heat map are low values, while red shows high values. As we can see, inflammation rises and falls over a 40-day period. Let's take a look at the average inflammation over time:\n"
     ]
    },
    {
     "cell_type": "code",
     "collapsed": false,
     "input": [
      "ave_inflammation = data.mean(axis=0)\n",
      "pyplot.plot(ave_inflammation)\n",
      "pyplot.show()\n"
     ],
     "language": "python",
     "metadata": {},
     "outputs": [
      {
       "metadata": {},
       "output_type": "display_data",
       "png": "[encoded data removed]",
       "text": [
        "<matplotlib.figure.Figure at 0x105fc2ed0>"
       ]
      }
     ],
     "prompt_number": 23
    },
    {
     "cell_type": "markdown",
     "metadata": {},
     "source": [
      "Here, we have put the average per day across all patients in the variable ave_inflammation, then asked pyplot to create and display a line graph of those values. The result is roughly a linear rise and fall, which is suspicious: based on other studies, we expect a sharper rise and slower fall. Let's have a look at two other statistics:\n"
     ]
    },
    {
     "cell_type": "code",
     "collapsed": false,
     "input": [
      "print 'maximum inflammation per day'\n",
      "pyplot.plot(data.max(axis=0))\n",
      "pyplot.show()\n",
      "\n",
      "print 'minimum inflammation per day'\n",
      "pyplot.plot(data.min(axis=0))\n",
      "pyplot.show()\n"
     ],
     "language": "python",
     "metadata": {},
     "outputs": [
      {
       "output_type": "stream",
       "stream": "stdout",
       "text": [
        "maximum inflammation per day\n"
       ]
      },
      {
       "metadata": {},
       "output_type": "display_data",
       "png": "[encoded data removed]",
       "text": [
        "<matplotlib.figure.Figure at 0x105fc6c50>"
       ]
      },
      {
       "output_type": "stream",
       "stream": "stdout",
       "text": [
        "minimum inflammation per day\n"
       ]
      },
      {
       "metadata": {},
       "output_type": "display_data",
       "png": "[encoded data removed]",
       "text": [
        "<matplotlib.figure.Figure at 0x105fcf6d0>"
       ]
      }
     ],
     "prompt_number": 24
    },
    {
     "cell_type": "markdown",
     "metadata": {},
     "source": [
      "Wrapping Up\n",
      "-----------\n",
      "It's very common to create an alias for a library when importing it in order to reduce the amount of typing we have to do. Here are our three plots side by side using aliases for numpy and pyplot:"
     ]
    },
    {
     "cell_type": "code",
     "collapsed": false,
     "input": [
      "import numpy as np\n",
      "from matplotlib import pyplot as plt\n",
      "\n",
      "data = np.loadtxt(fname='inflammation-01.csv', delimiter=',')\n",
      "\n",
      "plt.figure(figsize=(10.0, 3.0))\n",
      "\n",
      "plt.subplot(1, 3, 1)\n",
      "plt.ylabel('average')\n",
      "plt.plot(data.mean(0))\n",
      "\n",
      "plt.subplot(1, 3, 2)\n",
      "plt.ylabel('max')\n",
      "plt.plot(data.max(0))\n",
      "\n",
      "plt.subplot(1, 3, 3)\n",
      "plt.ylabel('min')\n",
      "plt.plot(data.min(0))\n",
      "\n",
      "plt.tight_layout()\n",
      "plt.show()"
     ],
     "language": "python",
     "metadata": {},
     "outputs": [
      {
       "metadata": {},
       "output_type": "display_data",
       "png": "[encoded data removed]",
       "text": [
        "<matplotlib.figure.Figure at 0x105ff3090>"
       ]
      }
     ],
     "prompt_number": 25
    },
    {
     "cell_type": "markdown",
     "metadata": {},
     "source": [
      "Would you like to know more?\n",
      "========================\n",
      "<img src=\"starshiptroopers2.jpg\" style=\"width: 400px;\">\n",
      "\n",
      "This session briefly covered a number of topics in Python.  We've used Python's NumPy library to read in some data, process it and graphically display the results.  Of course this is just the beginning..\n",
      "\n",
      "* On Thursday there is a talk on  \"Automating image analysis using Python scripting\" by Dr Keith Schulze and Dr Richard Beare\n",
      "* Many online tutorials on Python\n",
      "* Software carpentry lectures online (videos and slides)  http://software-carpentry.org/v4/python/\n"
     ]
    },
    {
     "cell_type": "code",
     "collapsed": false,
     "input": [],
     "language": "python",
     "metadata": {},
     "outputs": []
    }
   ],
   "metadata": {}
  }
 ]
}